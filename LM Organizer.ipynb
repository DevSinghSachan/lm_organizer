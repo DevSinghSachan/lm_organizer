{
 "metadata": {
  "name": "",
  "signature": "sha256:355a80ca81ef1078e8bf8c522872db26836b887b457d16756eff60395d40f850"
 },
 "nbformat": 3,
 "nbformat_minor": 0,
 "worksheets": [
  {
   "cells": [
    {
     "cell_type": "markdown",
     "metadata": {},
     "source": [
      "# Language Model Organizer\n",
      "\n",
      "Language model built around the idea of **binary search**. Method is simple, take any input text, assign a tree to the text by recursively cutting it in halves. Take random words inside and train the vector to separate the words into the tree (hierarchical softmax in a minimalistic setting)"
     ]
    },
    {
     "cell_type": "code",
     "collapsed": false,
     "input": [
      "%load_ext autoreload\n",
      "%autoreload 2\n",
      "%config InlineBackend.figure_format = 'svg'\n",
      "%matplotlib inline\n",
      "import matplotlib.pyplot as plt, os \n",
      "from model import OrganizerModel\n",
      "from model.utils import DocumentTree\n",
      "from model.utils import import_mini_wiki_corpus, collect_counts, save_vocab, load_vocab"
     ],
     "language": "python",
     "metadata": {},
     "outputs": [
      {
       "output_type": "stream",
       "stream": "stdout",
       "text": [
        "The autoreload extension is already loaded. To reload it, use:\n",
        "  %reload_ext autoreload\n"
       ]
      }
     ],
     "prompt_number": 3
    },
    {
     "cell_type": "markdown",
     "metadata": {},
     "source": [
      "collect words and documents using hash table:"
     ]
    },
    {
     "cell_type": "code",
     "collapsed": false,
     "input": [
      "corpus = import_mini_wiki_corpus(\"/users/jonathanraiman/desktop/plaintext_articles/\")\n",
      "if os.path.exists(\"saves/vocab.gz\"):\n",
      "    vocab = load_vocab(\"saves/vocab.gz\")\n",
      "else:\n",
      "    vocab = collect_counts(corpus)\n",
      "    save_vocab(vocab, \"saves/vocab.gz\")\n",
      "\n",
      "# convert words:\n",
      "NUM_WORDS = 50000\n",
      "index2word = [word[0] for word in vocab.most_common(NUM_WORDS)]\n",
      "word2index = {}\n",
      "for i, word in enumerate(index2word):\n",
      "    word2index[word] = i\n",
      "   \n",
      "# convert documents:\n",
      "index2document = []\n",
      "document2index = {}\n",
      "document_index = 0\n",
      "documents = []\n",
      "for key, value in corpus.items():\n",
      "    index2document.append(key)\n",
      "    document2index[key] = document_index\n",
      "    documents.append(DocumentTree(value, word2index, document_index))\n",
      "    document_index+=1"
     ],
     "language": "python",
     "metadata": {},
     "outputs": [],
     "prompt_number": 4
    },
    {
     "cell_type": "markdown",
     "metadata": {},
     "source": [
      "build model:"
     ]
    },
    {
     "cell_type": "code",
     "collapsed": false,
     "input": [
      "organizer_model = OrganizerModel(size = 50,\n",
      "                                 tree_depth = 2,\n",
      "                                vocabulary_size = NUM_WORDS,\n",
      "                                document_size = len(corpus))"
     ],
     "language": "python",
     "metadata": {},
     "outputs": [],
     "prompt_number": 5
    },
    {
     "cell_type": "markdown",
     "metadata": {},
     "source": [
      "## Training"
     ]
    },
    {
     "cell_type": "code",
     "collapsed": false,
     "input": [
      "epochs = 9\n",
      "epoch_cost = 0.0\n",
      "for epoch in range(epochs):\n",
      "    for doc in documents:\n",
      "        depth = np.random.randint(1, organizer_model.tree_depth + 1)\n",
      "        code = np.random.randint(2, size = depth)\n",
      "        organizer_model.update_fun(doc.create_example(code), ,[1])"
     ],
     "language": "python",
     "metadata": {},
     "outputs": []
    },
    {
     "cell_type": "code",
     "collapsed": false,
     "input": [
      "np.random.randint(2, size = depth)"
     ],
     "language": "python",
     "metadata": {},
     "outputs": [
      {
       "metadata": {},
       "output_type": "pyout",
       "prompt_number": 315,
       "text": [
        "array([1])"
       ]
      }
     ],
     "prompt_number": 315
    },
    {
     "cell_type": "code",
     "collapsed": false,
     "input": [
      "np.random.randint(1, organizer_model.tree_depth + 1)"
     ],
     "language": "python",
     "metadata": {},
     "outputs": [
      {
       "metadata": {},
       "output_type": "pyout",
       "prompt_number": 304,
       "text": [
        "1"
       ]
      }
     ],
     "prompt_number": 304
    },
    {
     "cell_type": "code",
     "collapsed": false,
     "input": [
      "organizer_model.tree_depth"
     ],
     "language": "python",
     "metadata": {},
     "outputs": [
      {
       "metadata": {},
       "output_type": "pyout",
       "prompt_number": 301,
       "text": [
        "2"
       ]
      }
     ],
     "prompt_number": 301
    },
    {
     "cell_type": "code",
     "collapsed": false,
     "input": [],
     "language": "python",
     "metadata": {},
     "outputs": []
    }
   ],
   "metadata": {}
  }
 ]
}